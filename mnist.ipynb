{
 "cells": [
  {
   "cell_type": "code",
   "execution_count": 1,
   "id": "stock-solution",
   "metadata": {
    "_cell_guid": "b1076dfc-b9ad-4769-8c92-a6c4dae69d19",
    "_uuid": "8f2839f25d086af736a60e9eeb907d3b93b6e0e5",
    "execution": {
     "iopub.execute_input": "2021-06-29T07:41:05.168520Z",
     "iopub.status.busy": "2021-06-29T07:41:05.166994Z",
     "iopub.status.idle": "2021-06-29T07:41:11.290636Z",
     "shell.execute_reply": "2021-06-29T07:41:11.289835Z",
     "shell.execute_reply.started": "2021-06-29T07:05:05.292006Z"
    },
    "papermill": {
     "duration": 6.168555,
     "end_time": "2021-06-29T07:41:11.290823",
     "exception": false,
     "start_time": "2021-06-29T07:41:05.122268",
     "status": "completed"
    },
    "tags": []
   },
   "outputs": [],
   "source": [
    "import seaborn as sns\n",
    "import matplotlib.pyplot as plt\n",
    "import keras\n",
    "import tensorflow as tf\n",
    "from tensorflow.keras.layers import Dense\n",
    "from tensorflow.keras import layers\n",
    "from tensorflow.keras import Sequential, Input\n",
    "from tensorflow.keras.backend import clear_session\n",
    "from tensorflow.keras.optimizers import Adam\n",
    "from tensorflow.keras.layers import Dense, Dropout, LSTM\n",
    "from sklearn.metrics import confusion_matrix\n",
    "from sklearn.preprocessing import OneHotEncoder\n",
    "\n",
    "from scipy.special import softmax\n",
    "\n",
    "from sklearn.metrics import accuracy_score,f1_score,zero_one_loss,confusion_matrix,precision_score,plot_confusion_matrix\n",
    "\n",
    "import tensorflow_probability as tfp\n",
    "import numpy as np\n",
    "import pandas as pd"
   ]
  },
  {
   "cell_type": "code",
   "execution_count": 2,
   "id": "likely-teacher",
   "metadata": {
    "execution": {
     "iopub.execute_input": "2021-06-29T07:41:11.379884Z",
     "iopub.status.busy": "2021-06-29T07:41:11.379368Z",
     "iopub.status.idle": "2021-06-29T07:41:14.232305Z",
     "shell.execute_reply": "2021-06-29T07:41:14.231845Z",
     "shell.execute_reply.started": "2021-06-29T07:05:13.606543Z"
    },
    "papermill": {
     "duration": 2.902437,
     "end_time": "2021-06-29T07:41:14.232446",
     "exception": false,
     "start_time": "2021-06-29T07:41:11.330009",
     "status": "completed"
    },
    "tags": []
   },
   "outputs": [
    {
     "data": {
      "text/html": [
       "<div>\n",
       "<style scoped>\n",
       "    .dataframe tbody tr th:only-of-type {\n",
       "        vertical-align: middle;\n",
       "    }\n",
       "\n",
       "    .dataframe tbody tr th {\n",
       "        vertical-align: top;\n",
       "    }\n",
       "\n",
       "    .dataframe thead th {\n",
       "        text-align: right;\n",
       "    }\n",
       "</style>\n",
       "<table border=\"1\" class=\"dataframe\">\n",
       "  <thead>\n",
       "    <tr style=\"text-align: right;\">\n",
       "      <th></th>\n",
       "      <th>Unnamed: 0</th>\n",
       "      <th>label</th>\n",
       "      <th>pixel0</th>\n",
       "      <th>pixel1</th>\n",
       "      <th>pixel2</th>\n",
       "      <th>pixel3</th>\n",
       "      <th>pixel4</th>\n",
       "      <th>pixel5</th>\n",
       "      <th>pixel6</th>\n",
       "      <th>pixel7</th>\n",
       "      <th>...</th>\n",
       "      <th>pixel774</th>\n",
       "      <th>pixel775</th>\n",
       "      <th>pixel776</th>\n",
       "      <th>pixel777</th>\n",
       "      <th>pixel778</th>\n",
       "      <th>pixel779</th>\n",
       "      <th>pixel780</th>\n",
       "      <th>pixel781</th>\n",
       "      <th>pixel782</th>\n",
       "      <th>pixel783</th>\n",
       "    </tr>\n",
       "  </thead>\n",
       "  <tbody>\n",
       "    <tr>\n",
       "      <th>0</th>\n",
       "      <td>0</td>\n",
       "      <td>1</td>\n",
       "      <td>0.0</td>\n",
       "      <td>0.0</td>\n",
       "      <td>0.0</td>\n",
       "      <td>0.0</td>\n",
       "      <td>0.0</td>\n",
       "      <td>0.0</td>\n",
       "      <td>0.0</td>\n",
       "      <td>0.0</td>\n",
       "      <td>...</td>\n",
       "      <td>0.0</td>\n",
       "      <td>0.0</td>\n",
       "      <td>0.0</td>\n",
       "      <td>0.0</td>\n",
       "      <td>0.0</td>\n",
       "      <td>0.0</td>\n",
       "      <td>0.0</td>\n",
       "      <td>0.0</td>\n",
       "      <td>0.0</td>\n",
       "      <td>0.0</td>\n",
       "    </tr>\n",
       "    <tr>\n",
       "      <th>1</th>\n",
       "      <td>1</td>\n",
       "      <td>0</td>\n",
       "      <td>0.0</td>\n",
       "      <td>0.0</td>\n",
       "      <td>0.0</td>\n",
       "      <td>0.0</td>\n",
       "      <td>0.0</td>\n",
       "      <td>0.0</td>\n",
       "      <td>0.0</td>\n",
       "      <td>0.0</td>\n",
       "      <td>...</td>\n",
       "      <td>0.0</td>\n",
       "      <td>0.0</td>\n",
       "      <td>0.0</td>\n",
       "      <td>0.0</td>\n",
       "      <td>0.0</td>\n",
       "      <td>0.0</td>\n",
       "      <td>0.0</td>\n",
       "      <td>0.0</td>\n",
       "      <td>0.0</td>\n",
       "      <td>0.0</td>\n",
       "    </tr>\n",
       "    <tr>\n",
       "      <th>2</th>\n",
       "      <td>2</td>\n",
       "      <td>1</td>\n",
       "      <td>0.0</td>\n",
       "      <td>0.0</td>\n",
       "      <td>0.0</td>\n",
       "      <td>0.0</td>\n",
       "      <td>0.0</td>\n",
       "      <td>0.0</td>\n",
       "      <td>0.0</td>\n",
       "      <td>0.0</td>\n",
       "      <td>...</td>\n",
       "      <td>0.0</td>\n",
       "      <td>0.0</td>\n",
       "      <td>0.0</td>\n",
       "      <td>0.0</td>\n",
       "      <td>0.0</td>\n",
       "      <td>0.0</td>\n",
       "      <td>0.0</td>\n",
       "      <td>0.0</td>\n",
       "      <td>0.0</td>\n",
       "      <td>0.0</td>\n",
       "    </tr>\n",
       "    <tr>\n",
       "      <th>3</th>\n",
       "      <td>4</td>\n",
       "      <td>0</td>\n",
       "      <td>0.0</td>\n",
       "      <td>0.0</td>\n",
       "      <td>0.0</td>\n",
       "      <td>0.0</td>\n",
       "      <td>0.0</td>\n",
       "      <td>0.0</td>\n",
       "      <td>0.0</td>\n",
       "      <td>0.0</td>\n",
       "      <td>...</td>\n",
       "      <td>0.0</td>\n",
       "      <td>0.0</td>\n",
       "      <td>0.0</td>\n",
       "      <td>0.0</td>\n",
       "      <td>0.0</td>\n",
       "      <td>0.0</td>\n",
       "      <td>0.0</td>\n",
       "      <td>0.0</td>\n",
       "      <td>0.0</td>\n",
       "      <td>0.0</td>\n",
       "    </tr>\n",
       "    <tr>\n",
       "      <th>4</th>\n",
       "      <td>5</td>\n",
       "      <td>0</td>\n",
       "      <td>0.0</td>\n",
       "      <td>0.0</td>\n",
       "      <td>0.0</td>\n",
       "      <td>0.0</td>\n",
       "      <td>0.0</td>\n",
       "      <td>0.0</td>\n",
       "      <td>0.0</td>\n",
       "      <td>0.0</td>\n",
       "      <td>...</td>\n",
       "      <td>0.0</td>\n",
       "      <td>0.0</td>\n",
       "      <td>0.0</td>\n",
       "      <td>0.0</td>\n",
       "      <td>0.0</td>\n",
       "      <td>0.0</td>\n",
       "      <td>0.0</td>\n",
       "      <td>0.0</td>\n",
       "      <td>0.0</td>\n",
       "      <td>0.0</td>\n",
       "    </tr>\n",
       "  </tbody>\n",
       "</table>\n",
       "<p>5 rows × 786 columns</p>\n",
       "</div>"
      ],
      "text/plain": [
       "   Unnamed: 0  label  pixel0  pixel1  pixel2  pixel3  pixel4  pixel5  pixel6  \\\n",
       "0           0      1     0.0     0.0     0.0     0.0     0.0     0.0     0.0   \n",
       "1           1      0     0.0     0.0     0.0     0.0     0.0     0.0     0.0   \n",
       "2           2      1     0.0     0.0     0.0     0.0     0.0     0.0     0.0   \n",
       "3           4      0     0.0     0.0     0.0     0.0     0.0     0.0     0.0   \n",
       "4           5      0     0.0     0.0     0.0     0.0     0.0     0.0     0.0   \n",
       "\n",
       "   pixel7  ...  pixel774  pixel775  pixel776  pixel777  pixel778  pixel779  \\\n",
       "0     0.0  ...       0.0       0.0       0.0       0.0       0.0       0.0   \n",
       "1     0.0  ...       0.0       0.0       0.0       0.0       0.0       0.0   \n",
       "2     0.0  ...       0.0       0.0       0.0       0.0       0.0       0.0   \n",
       "3     0.0  ...       0.0       0.0       0.0       0.0       0.0       0.0   \n",
       "4     0.0  ...       0.0       0.0       0.0       0.0       0.0       0.0   \n",
       "\n",
       "   pixel780  pixel781  pixel782  pixel783  \n",
       "0       0.0       0.0       0.0       0.0  \n",
       "1       0.0       0.0       0.0       0.0  \n",
       "2       0.0       0.0       0.0       0.0  \n",
       "3       0.0       0.0       0.0       0.0  \n",
       "4       0.0       0.0       0.0       0.0  \n",
       "\n",
       "[5 rows x 786 columns]"
      ]
     },
     "execution_count": 2,
     "metadata": {},
     "output_type": "execute_result"
    }
   ],
   "source": [
    "# Data\n",
    "df = pd.read_csv('../input/mnistdata/mnist.csv')\n",
    "df.head()"
   ]
  },
  {
   "cell_type": "code",
   "execution_count": 3,
   "id": "boolean-arlington",
   "metadata": {
    "execution": {
     "iopub.execute_input": "2021-06-29T07:41:14.326863Z",
     "iopub.status.busy": "2021-06-29T07:41:14.326189Z",
     "iopub.status.idle": "2021-06-29T07:41:14.441920Z",
     "shell.execute_reply": "2021-06-29T07:41:14.441269Z",
     "shell.execute_reply.started": "2021-06-29T07:05:16.685868Z"
    },
    "papermill": {
     "duration": 0.170625,
     "end_time": "2021-06-29T07:41:14.442077",
     "exception": false,
     "start_time": "2021-06-29T07:41:14.271452",
     "status": "completed"
    },
    "tags": []
   },
   "outputs": [
    {
     "data": {
      "image/png": "[encoded data removed]",
      "text/plain": [
       "<Figure size 432x288 with 1 Axes>"
      ]
     },
     "metadata": {
      "needs_background": "light"
     },
     "output_type": "display_data"
    },
    {
     "name": "stdout",
     "output_type": "stream",
     "text": [
      "Label: 7\n"
     ]
    }
   ],
   "source": [
    "# pick a sample to plot\n",
    "sample = np.random.randint(df.shape[0])\n",
    "image = df.iloc[sample,2:].values.reshape(28,28)\n",
    "# plot the sample\n",
    "fig = plt.figure\n",
    "plt.imshow(image, cmap='gray')\n",
    "plt.show()\n",
    "print('Label: '+str(df['label'].values[sample]))"
   ]
  },
  {
   "cell_type": "code",
   "execution_count": 4,
   "id": "prerequisite-barbados",
   "metadata": {
    "execution": {
     "iopub.execute_input": "2021-06-29T07:41:14.524938Z",
     "iopub.status.busy": "2021-06-29T07:41:14.524430Z",
     "iopub.status.idle": "2021-06-29T07:41:14.903662Z",
     "shell.execute_reply": "2021-06-29T07:41:14.903201Z",
     "shell.execute_reply.started": "2021-06-29T07:05:16.860674Z"
    },
    "papermill": {
     "duration": 0.422561,
     "end_time": "2021-06-29T07:41:14.903785",
     "exception": false,
     "start_time": "2021-06-29T07:41:14.481224",
     "status": "completed"
    },
    "tags": []
   },
   "outputs": [
    {
     "data": {
      "text/plain": [
       "4132"
      ]
     },
     "execution_count": 4,
     "metadata": {},
     "output_type": "execute_result"
    },
    {
     "data": {
      "image/png": "[encoded data removed]",
      "text/plain": [
       "<Figure size 432x288 with 1 Axes>"
      ]
     },
     "metadata": {
      "needs_background": "light"
     },
     "output_type": "display_data"
    }
   ],
   "source": [
    "sns.barplot(x=\"label\",y=\"label\",data=df,\n",
    "            estimator=lambda x: len(x) / len(df.label) * 100).set(ylabel=\"%\",xlabel=\"Number\")\n",
    "\n",
    "sum(df.label.values==0)"
   ]
  },
  {
   "cell_type": "markdown",
   "id": "colonial-sphere",
   "metadata": {
    "papermill": {
     "duration": 0.039045,
     "end_time": "2021-06-29T07:41:14.982503",
     "exception": false,
     "start_time": "2021-06-29T07:41:14.943458",
     "status": "completed"
    },
    "tags": []
   },
   "source": [
    "Classes are balanced"
   ]
  },
  {
   "cell_type": "code",
   "execution_count": 5,
   "id": "magnetic-flash",
   "metadata": {
    "execution": {
     "iopub.execute_input": "2021-06-29T07:41:15.071987Z",
     "iopub.status.busy": "2021-06-29T07:41:15.071480Z",
     "iopub.status.idle": "2021-06-29T07:41:18.177438Z",
     "shell.execute_reply": "2021-06-29T07:41:18.177867Z",
     "shell.execute_reply.started": "2021-06-29T07:05:17.356451Z"
    },
    "papermill": {
     "duration": 3.156483,
     "end_time": "2021-06-29T07:41:18.178015",
     "exception": false,
     "start_time": "2021-06-29T07:41:15.021532",
     "status": "completed"
    },
    "tags": []
   },
   "outputs": [
    {
     "data": {
      "image/png": "[encoded data removed]",
      "text/plain": [
       "<Figure size 500x500 with 8 Axes>"
      ]
     },
     "metadata": {
      "needs_background": "light"
     },
     "output_type": "display_data"
    },
    {
     "data": {
      "image/png": "[encoded data removed]",
      "text/plain": [
       "<Figure size 500x500 with 8 Axes>"
      ]
     },
     "metadata": {
      "needs_background": "light"
     },
     "output_type": "display_data"
    },
    {
     "data": {
      "image/png": "[encoded data removed]",
      "text/plain": [
       "<Figure size 500x500 with 8 Axes>"
      ]
     },
     "metadata": {
      "needs_background": "light"
     },
     "output_type": "display_data"
    },
    {
     "data": {
      "image/png": "[encoded data removed]",
      "text/plain": [
       "<Figure size 500x500 with 8 Axes>"
      ]
     },
     "metadata": {
      "needs_background": "light"
     },
     "output_type": "display_data"
    }
   ],
   "source": [
    "zeros = np.where(df.label.values==0)[0]\n",
    "ones = np.where(df.label.values==1)[0]\n",
    "sevens = np.where(df.label.values==7)[0]\n",
    "eights = np.where(df.label.values==8)[0]\n",
    "\n",
    "\n",
    "rows = 2\n",
    "columns = 2\n",
    "\n",
    "fig, ax = plt.subplots(rows, columns, figsize=(5,5), dpi=100)\n",
    "fig.tight_layout()\n",
    "\n",
    "\n",
    "for i in range(1, columns*rows +1):\n",
    "    image = df.iloc[np.random.choice(zeros),2:].values.reshape(28,28)\n",
    "    fig.add_subplot(rows, columns, i)\n",
    "    plt.imshow(image, cmap='gray')\n",
    "\n",
    "fig, ax = plt.subplots(rows, columns, figsize=(5,5), dpi=100)\n",
    "fig.tight_layout()\n",
    "\n",
    "\n",
    "for i in range(1, columns*rows +1):\n",
    "    image = df.iloc[np.random.choice(ones),2:].values.reshape(28,28)\n",
    "    fig.add_subplot(rows, columns, i)\n",
    "    plt.imshow(image, cmap='gray')\n",
    "    \n",
    "fig, ax = plt.subplots(rows, columns, figsize=(5,5), dpi=100)\n",
    "fig.tight_layout()\n",
    "\n",
    "\n",
    "for i in range(1, columns*rows +1):\n",
    "    image = df.iloc[np.random.choice(sevens),2:].values.reshape(28,28)\n",
    "    fig.add_subplot(rows, columns, i)\n",
    "    plt.imshow(image, cmap='gray')\n",
    "    \n",
    "    \n",
    "fig, ax = plt.subplots(rows, columns, figsize=(5,5), dpi=100)\n",
    "fig.tight_layout()\n",
    "\n",
    "\n",
    "for i in range(1, columns*rows +1):\n",
    "    image = df.iloc[np.random.choice(eights),2:].values.reshape(28,28)\n",
    "    fig.add_subplot(rows, columns, i)\n",
    "    plt.imshow(image, cmap='gray')\n",
    "    \n",
    "    \n",
    "    \n",
    "    \n",
    "    "
   ]
  },
  {
   "cell_type": "code",
   "execution_count": 6,
   "id": "boolean-minnesota",
   "metadata": {
    "execution": {
     "iopub.execute_input": "2021-06-29T07:41:18.268546Z",
     "iopub.status.busy": "2021-06-29T07:41:18.267918Z",
     "iopub.status.idle": "2021-06-29T07:41:18.384449Z",
     "shell.execute_reply": "2021-06-29T07:41:18.383973Z",
     "shell.execute_reply.started": "2021-06-29T07:05:21.108088Z"
    },
    "papermill": {
     "duration": 0.163378,
     "end_time": "2021-06-29T07:41:18.384585",
     "exception": false,
     "start_time": "2021-06-29T07:41:18.221207",
     "status": "completed"
    },
    "tags": []
   },
   "outputs": [],
   "source": [
    "#Hold out a test set\n",
    "from sklearn.model_selection import train_test_split\n",
    "#X = df.iloc[:,:-1]\n",
    "#y = df.iloc[:,-1]\n",
    "X_train, X_test, y_train, y_test = train_test_split(df.iloc[:,2:],df.iloc[:,1],random_state=0,test_size=0.25)\n",
    "\n",
    "y_test_onehot = OneHotEncoder(sparse=False).fit_transform(y_test.values.reshape(-1,1))\n",
    "y_train_onehot = OneHotEncoder(sparse=False).fit_transform(y_train.values.reshape(-1,1))"
   ]
  },
  {
   "cell_type": "code",
   "execution_count": 7,
   "id": "annoying-cross",
   "metadata": {
    "execution": {
     "iopub.execute_input": "2021-06-29T07:41:18.477263Z",
     "iopub.status.busy": "2021-06-29T07:41:18.476482Z",
     "iopub.status.idle": "2021-06-29T07:41:18.479278Z",
     "shell.execute_reply": "2021-06-29T07:41:18.478836Z",
     "shell.execute_reply.started": "2021-06-29T07:05:21.274051Z"
    },
    "papermill": {
     "duration": 0.052356,
     "end_time": "2021-06-29T07:41:18.479386",
     "exception": false,
     "start_time": "2021-06-29T07:41:18.427030",
     "status": "completed"
    },
    "tags": []
   },
   "outputs": [],
   "source": [
    "def scatter_2d_label_with_subset(X_2d, y,subset, ax=None, s=0.5, alpha=0.85, lw=2):\n",
    "    \"\"\"Visualise a 2D embedding with corresponding labels.\n",
    "    \n",
    "    X_2d : ndarray, shape (n_samples,2)\n",
    "        Low-dimensional feature representation.\n",
    "    \n",
    "    y : ndarray, shape (n_samples,)\n",
    "        Labels corresponding to the entries in X_2d.\n",
    "        \n",
    "    ax : matplotlib axes.Axes \n",
    "         axes to plot on\n",
    "         \n",
    "    s : float\n",
    "        Marker size for scatter plot.\n",
    "    \n",
    "    alpha : float\n",
    "        Transparency for scatter plot.\n",
    "        \n",
    "    lw : float\n",
    "        Linewidth for scatter plot.\n",
    "        \n",
    "    subset : ndarray\n",
    "        subset of points to be flagged on the plot\n",
    "    \"\"\"\n",
    "    \n",
    "    targets = np.unique(y)# extract unique labels\n",
    "    colors = sns.color_palette(n_colors=targets.size)\n",
    "    \n",
    "    if ax is None:\n",
    "        fig, ax = plt.subplots()\n",
    "        \n",
    "    # scatter plot    \n",
    "    for color, target in zip(colors, targets):\n",
    "        ax.scatter(X_2d[y == target, 0], X_2d[y == target, 1], color=color, label=target, s=s, alpha=alpha, lw=lw)\n",
    "        \n",
    "    ax.scatter(X_2d[subset, 0],X_2d[subset, 1],color='black')\n",
    "    # add legend\n",
    "    ax.legend(loc='center left', bbox_to_anchor=[1.01, 0.5], scatterpoints=3, frameon=False); # Add a legend outside the plot at specified point\n",
    "    \n",
    "    return ax"
   ]
  },
  {
   "cell_type": "code",
   "execution_count": 8,
   "id": "instant-mobile",
   "metadata": {
    "execution": {
     "iopub.execute_input": "2021-06-29T07:41:18.568829Z",
     "iopub.status.busy": "2021-06-29T07:41:18.568170Z",
     "iopub.status.idle": "2021-06-29T07:41:20.379865Z",
     "shell.execute_reply": "2021-06-29T07:41:20.378106Z",
     "shell.execute_reply.started": "2021-06-29T07:05:21.287684Z"
    },
    "papermill": {
     "duration": 1.859009,
     "end_time": "2021-06-29T07:41:20.380108",
     "exception": true,
     "start_time": "2021-06-29T07:41:18.521099",
     "status": "failed"
    },
    "tags": []
   },
   "outputs": [
    {
     "ename": "NameError",
     "evalue": "name 'n_components' is not defined",
     "output_type": "error",
     "traceback": [
      "\u001b[0;31m---------------------------------------------------------------------------\u001b[0m",
      "\u001b[0;31mNameError\u001b[0m                                 Traceback (most recent call last)",
      "\u001b[0;32m<ipython-input-8-c8718bf540d0>\u001b[0m in \u001b[0;36m<module>\u001b[0;34m\u001b[0m\n\u001b[1;32m      4\u001b[0m \u001b[0mpca\u001b[0m \u001b[0;34m=\u001b[0m \u001b[0mPCA\u001b[0m\u001b[0;34m(\u001b[0m\u001b[0mn_components\u001b[0m\u001b[0;34m=\u001b[0m\u001b[0;36m2\u001b[0m\u001b[0;34m)\u001b[0m\u001b[0;34m\u001b[0m\u001b[0;34m\u001b[0m\u001b[0m\n\u001b[1;32m      5\u001b[0m \u001b[0mX_pca\u001b[0m \u001b[0;34m=\u001b[0m \u001b[0mpca\u001b[0m\u001b[0;34m.\u001b[0m\u001b[0mfit_transform\u001b[0m\u001b[0;34m(\u001b[0m\u001b[0mdf\u001b[0m\u001b[0;34m.\u001b[0m\u001b[0miloc\u001b[0m\u001b[0;34m[\u001b[0m\u001b[0;34m:\u001b[0m\u001b[0;34m,\u001b[0m\u001b[0;36m2\u001b[0m\u001b[0;34m:\u001b[0m\u001b[0;34m]\u001b[0m\u001b[0;34m)\u001b[0m\u001b[0;34m\u001b[0m\u001b[0;34m\u001b[0m\u001b[0m\n\u001b[0;32m----> 6\u001b[0;31m \u001b[0mprint\u001b[0m\u001b[0;34m(\u001b[0m\u001b[0;34m'Variance explained by the '\u001b[0m\u001b[0;34m+\u001b[0m\u001b[0mstr\u001b[0m\u001b[0;34m(\u001b[0m\u001b[0mn_components\u001b[0m\u001b[0;34m)\u001b[0m\u001b[0;34m+\u001b[0m\u001b[0;34m' first pca components: '\u001b[0m\u001b[0;34m+\u001b[0m\u001b[0mstr\u001b[0m\u001b[0;34m(\u001b[0m\u001b[0mround\u001b[0m\u001b[0;34m(\u001b[0m\u001b[0mnp\u001b[0m\u001b[0;34m.\u001b[0m\u001b[0msum\u001b[0m\u001b[0;34m(\u001b[0m\u001b[0mpca\u001b[0m\u001b[0;34m.\u001b[0m\u001b[0mexplained_variance_ratio_\u001b[0m\u001b[0;34m)\u001b[0m\u001b[0;34m,\u001b[0m\u001b[0;36m2\u001b[0m\u001b[0;34m)\u001b[0m\u001b[0;34m)\u001b[0m\u001b[0;34m)\u001b[0m\u001b[0;34m\u001b[0m\u001b[0;34m\u001b[0m\u001b[0m\n\u001b[0m\u001b[1;32m      7\u001b[0m \u001b[0;34m\u001b[0m\u001b[0m\n\u001b[1;32m      8\u001b[0m \u001b[0;34m\u001b[0m\u001b[0m\n",
      "\u001b[0;31mNameError\u001b[0m: name 'n_components' is not defined"
     ]
    }
   ],
   "source": [
    "# PCA : Assesss variables' relevance\n",
    "from sklearn.decomposition import PCA\n",
    "\n",
    "pca = PCA(n_components=2)\n",
    "X_pca = pca.fit_transform(df.iloc[:,2:])\n",
    "print('Variance explained by the '+str(n_components)+' first pca components: '+str(round(np.sum(pca.explained_variance_ratio_),2)))\n",
    "\n",
    "\n",
    "y=df['label'].values.reshape(-1)\n",
    "fig, ax = plt.subplots()\n",
    "scatter_2d_label_with_subset(X_pca, y, ax=ax)\n",
    "ax.set(xlabel='1st PCA component', ylabel= '2nd PCA component');\n"
   ]
  },
  {
   "cell_type": "markdown",
   "id": "horizontal-editing",
   "metadata": {
    "papermill": {
     "duration": null,
     "end_time": null,
     "exception": null,
     "start_time": null,
     "status": "pending"
    },
    "tags": []
   },
   "source": [
    "### Baseline: logistic regression"
   ]
  },
  {
   "cell_type": "code",
   "execution_count": null,
   "id": "designed-grill",
   "metadata": {
    "execution": {
     "iopub.execute_input": "2021-06-29T07:05:23.147058Z",
     "iopub.status.busy": "2021-06-29T07:05:23.14662Z",
     "iopub.status.idle": "2021-06-29T07:05:32.374985Z",
     "shell.execute_reply": "2021-06-29T07:05:32.374198Z",
     "shell.execute_reply.started": "2021-06-29T07:05:23.147009Z"
    },
    "papermill": {
     "duration": null,
     "end_time": null,
     "exception": null,
     "start_time": null,
     "status": "pending"
    },
    "tags": []
   },
   "outputs": [],
   "source": [
    "#Logistic regression\n",
    "from sklearn.linear_model import LogisticRegression\n",
    "logreg = LogisticRegression(max_iter=1000)\n",
    "logreg.fit(X_train,y_train)\n",
    "\n",
    "\n",
    "y_pred=logreg.predict(X_test)\n",
    "\n",
    "from sklearn.metrics import accuracy_score,f1_score,zero_one_loss,confusion_matrix,precision_score,plot_confusion_matrix\n",
    "print('Accuracy on train set: '+str(accuracy_score(y_train,logreg.predict(X_train))))\n",
    "print('Accuracy on test set: '+str(accuracy_score(y_test,y_pred))+\"\\n\")\n",
    "#precision_score(y_test,y_pred)\n",
    "#f1_score(y_test,y_pred)\n",
    "#zero_one_loss(y_test,y_pred)\n",
    "print(confusion_matrix(y_test,y_pred))\n",
    "\n",
    "plot_confusion_matrix(logreg,X_test,y_test)\n"
   ]
  },
  {
   "cell_type": "code",
   "execution_count": null,
   "id": "reasonable-aging",
   "metadata": {
    "execution": {
     "iopub.execute_input": "2021-06-29T07:05:32.376823Z",
     "iopub.status.busy": "2021-06-29T07:05:32.376265Z",
     "iopub.status.idle": "2021-06-29T07:05:39.062394Z",
     "shell.execute_reply": "2021-06-29T07:05:39.061317Z",
     "shell.execute_reply.started": "2021-06-29T07:05:32.376778Z"
    },
    "papermill": {
     "duration": null,
     "end_time": null,
     "exception": null,
     "start_time": null,
     "status": "pending"
    },
    "tags": []
   },
   "outputs": [],
   "source": [
    "#Random Forest/Classification tree\n",
    "from sklearn.ensemble import RandomForestClassifier\n",
    "RFC = RandomForestClassifier(n_estimators=100,max_leaf_nodes=950)\n",
    "RFC.fit(X_train,y_train)\n",
    "\n",
    "\n",
    "y_pred=RFC.predict(X_test)\n",
    "\n",
    "\n",
    "from sklearn.metrics import accuracy_score,f1_score,zero_one_loss,confusion_matrix,precision_score,plot_confusion_matrix\n",
    "print('Accuracy on train set: '+str(accuracy_score(y_train,RFC.predict(X_train))))\n",
    "print('Accuracy on test set: '+str(accuracy_score(y_test,y_pred))+\"\\n\")\n",
    "#precision_score(y_test,y_pred)\n",
    "#f1_score(y_test,y_pred)\n",
    "#zero_one_loss(y_test,y_pred)\n",
    "print(confusion_matrix(y_test,y_pred))\n",
    "\n",
    "plot_confusion_matrix(RFC,X_test,y_test)\n"
   ]
  },
  {
   "cell_type": "markdown",
   "id": "descending-hudson",
   "metadata": {
    "papermill": {
     "duration": null,
     "end_time": null,
     "exception": null,
     "start_time": null,
     "status": "pending"
    },
    "tags": []
   },
   "source": [
    "### Vanilla CNN"
   ]
  },
  {
   "cell_type": "code",
   "execution_count": null,
   "id": "quarterly-nickname",
   "metadata": {
    "execution": {
     "iopub.execute_input": "2021-06-29T07:05:39.064075Z",
     "iopub.status.busy": "2021-06-29T07:05:39.063743Z",
     "iopub.status.idle": "2021-06-29T07:05:39.107989Z",
     "shell.execute_reply": "2021-06-29T07:05:39.106945Z",
     "shell.execute_reply.started": "2021-06-29T07:05:39.064043Z"
    },
    "papermill": {
     "duration": null,
     "end_time": null,
     "exception": null,
     "start_time": null,
     "status": "pending"
    },
    "tags": []
   },
   "outputs": [],
   "source": [
    "#Convert quality to float\n",
    "y_train=df.iloc[:,1].astype(float).values\n",
    "y_test=y_train\n",
    "X_train=df.iloc[:,2:]\n",
    "X_test=X_train\n",
    "\n",
    "#esc = StandardScaler()\n",
    "#\n",
    "#X_train = esc.fit_transform(X)\n",
    "#X_test = X_train\n",
    "\n",
    "\n",
    "from sklearn.preprocessing import OneHotEncoder\n",
    "y_train_onehot = OneHotEncoder(sparse=False).fit_transform(y_train.reshape(-1,1)) \n",
    "y_test_onehot = y_train_onehot \n"
   ]
  },
  {
   "cell_type": "code",
   "execution_count": null,
   "id": "interstate-trauma",
   "metadata": {
    "execution": {
     "iopub.execute_input": "2021-06-29T07:05:39.109814Z",
     "iopub.status.busy": "2021-06-29T07:05:39.109425Z",
     "iopub.status.idle": "2021-06-29T07:05:39.117083Z",
     "shell.execute_reply": "2021-06-29T07:05:39.116343Z",
     "shell.execute_reply.started": "2021-06-29T07:05:39.109777Z"
    },
    "papermill": {
     "duration": null,
     "end_time": null,
     "exception": null,
     "start_time": null,
     "status": "pending"
    },
    "tags": []
   },
   "outputs": [],
   "source": [
    "from keras.models import Sequential\n",
    "from keras.layers import Conv2D\n",
    "from keras.layers import MaxPooling2D\n",
    "from keras.layers import Flatten\n",
    "from keras.layers import Dense\n",
    "\n",
    "X_train_cnn = X_train.values.reshape(-1,28,28,1)\n",
    "X_test_cnn = X_test.values.reshape(-1,28,28,1)"
   ]
  },
  {
   "cell_type": "code",
   "execution_count": null,
   "id": "innocent-distributor",
   "metadata": {
    "execution": {
     "iopub.execute_input": "2021-06-29T07:05:39.118626Z",
     "iopub.status.busy": "2021-06-29T07:05:39.118325Z",
     "iopub.status.idle": "2021-06-29T07:05:39.24606Z",
     "shell.execute_reply": "2021-06-29T07:05:39.245072Z",
     "shell.execute_reply.started": "2021-06-29T07:05:39.118598Z"
    },
    "papermill": {
     "duration": null,
     "end_time": null,
     "exception": null,
     "start_time": null,
     "status": "pending"
    },
    "tags": []
   },
   "outputs": [],
   "source": [
    "cnn_vanilla_model = keras.Sequential(\n",
    "    [\n",
    "        layers.Conv2D(filters=32,\n",
    "                      kernel_size = (6, 6),\n",
    "                      input_shape = (28, 28,1),\n",
    "                      padding='valid',\n",
    "                      activation='relu',),\n",
    "        layers.MaxPooling2D(pool_size = (2,2)),\n",
    "        layers.Conv2D(filters=32,\n",
    "                      kernel_size = (6, 6),\n",
    "                      input_shape = (28, 28, 1),\n",
    "                      padding='valid',\n",
    "                      activation='relu',),\n",
    "        layers.MaxPooling2D(pool_size = (2,2)),\n",
    "        layers.Flatten(),\n",
    "        layers.Dense(512, activation=\"relu\"),\n",
    "        layers.Dense(4, activation = 'softmax')\n",
    "    ]\n",
    ")"
   ]
  },
  {
   "cell_type": "code",
   "execution_count": null,
   "id": "prescribed-compound",
   "metadata": {
    "execution": {
     "iopub.execute_input": "2021-06-29T07:05:39.247382Z",
     "iopub.status.busy": "2021-06-29T07:05:39.247083Z",
     "iopub.status.idle": "2021-06-29T07:06:52.774926Z",
     "shell.execute_reply": "2021-06-29T07:06:52.773941Z",
     "shell.execute_reply.started": "2021-06-29T07:05:39.247354Z"
    },
    "papermill": {
     "duration": null,
     "end_time": null,
     "exception": null,
     "start_time": null,
     "status": "pending"
    },
    "tags": []
   },
   "outputs": [],
   "source": [
    "n_epochs = 10\n",
    "batch = 512\n",
    "cnn_vanilla_model.compile(optimizer=Adam(learning_rate=0.01), loss='categorical_crossentropy',metrics=['accuracy'])\n",
    "#model.fit(x=X, y=y, epochs=300, batch_size=batch, verbose = 0)\n",
    "cnn_vanilla_history=cnn_vanilla_model.fit(X_train_cnn, y_train_onehot, batch_size=batch ,\n",
    "                                  epochs=n_epochs,verbose=1,validation_data=(X_test_cnn,y_test_onehot))"
   ]
  },
  {
   "cell_type": "code",
   "execution_count": null,
   "id": "modular-necessity",
   "metadata": {
    "execution": {
     "iopub.execute_input": "2021-06-29T07:06:52.77733Z",
     "iopub.status.busy": "2021-06-29T07:06:52.776716Z",
     "iopub.status.idle": "2021-06-29T07:06:53.183576Z",
     "shell.execute_reply": "2021-06-29T07:06:53.1826Z",
     "shell.execute_reply.started": "2021-06-29T07:06:52.777282Z"
    },
    "papermill": {
     "duration": null,
     "end_time": null,
     "exception": null,
     "start_time": null,
     "status": "pending"
    },
    "tags": []
   },
   "outputs": [],
   "source": [
    "#print(vanilla_history.history.keys())\n",
    "fig, ax = plt.subplots(1, 2, figsize=(5,2), dpi=150)\n",
    "\n",
    "#\"Loss\"\n",
    "sns.lineplot(x=1+np.arange(n_epochs), y=cnn_vanilla_history.history['loss'],ax=ax[0],color='blue')\n",
    "sns.lineplot(x=1+np.arange(n_epochs), y=cnn_vanilla_history.history['val_loss'],ax=ax[0],color='orange')\n",
    "ax[0].legend(['Training loss','Testing loss'],fontsize=8)\n",
    "ax[0].set(xlabel='Epoch')\n",
    "\n",
    "#\"MSE\"'\n",
    "sns.lineplot(x=1+np.arange(n_epochs), y=cnn_vanilla_history.history['accuracy'],ax=ax[1],color='blue')\n",
    "sns.lineplot(x=1+np.arange(n_epochs), y=cnn_vanilla_history.history['val_accuracy'],ax=ax[1],color='orange')\n",
    "ax[1].legend(['Training accuracy','Testing accuracy'],fontsize=8)\n",
    "ax[1].set(xlabel='Epoch')"
   ]
  },
  {
   "cell_type": "code",
   "execution_count": null,
   "id": "instant-storm",
   "metadata": {
    "execution": {
     "iopub.execute_input": "2021-06-29T07:06:53.185422Z",
     "iopub.status.busy": "2021-06-29T07:06:53.184938Z",
     "iopub.status.idle": "2021-06-29T07:06:55.937641Z",
     "shell.execute_reply": "2021-06-29T07:06:55.936513Z",
     "shell.execute_reply.started": "2021-06-29T07:06:53.185385Z"
    },
    "papermill": {
     "duration": null,
     "end_time": null,
     "exception": null,
     "start_time": null,
     "status": "pending"
    },
    "tags": []
   },
   "outputs": [],
   "source": [
    "score = cnn_vanilla_model.evaluate(X_test_cnn, y_test_onehot, verbose=0)\n",
    "print(\"Test loss:\", score[0])\n",
    "print(\"Test accuracy:\", score[1])"
   ]
  },
  {
   "cell_type": "code",
   "execution_count": null,
   "id": "expensive-depth",
   "metadata": {
    "execution": {
     "iopub.execute_input": "2021-06-29T07:06:55.939287Z",
     "iopub.status.busy": "2021-06-29T07:06:55.938966Z",
     "iopub.status.idle": "2021-06-29T07:06:58.353767Z",
     "shell.execute_reply": "2021-06-29T07:06:58.352756Z",
     "shell.execute_reply.started": "2021-06-29T07:06:55.939256Z"
    },
    "papermill": {
     "duration": null,
     "end_time": null,
     "exception": null,
     "start_time": null,
     "status": "pending"
    },
    "tags": []
   },
   "outputs": [],
   "source": [
    "p = cnn_vanilla_model.predict(X_test_cnn)                    # Fitted values (outputs predicted from training inputs)\n",
    "confusion_matrix(np.argmax(y_test_onehot, axis=1),  # Input class membership\n",
    "                 np.argmax(p, axis=1))  # Output class membership"
   ]
  },
  {
   "cell_type": "markdown",
   "id": "distant-resident",
   "metadata": {
    "papermill": {
     "duration": null,
     "end_time": null,
     "exception": null,
     "start_time": null,
     "status": "pending"
    },
    "tags": []
   },
   "source": [
    "Let us see which digits the cnn struggles at when classifying"
   ]
  },
  {
   "cell_type": "markdown",
   "id": "functional-spectrum",
   "metadata": {
    "papermill": {
     "duration": null,
     "end_time": null,
     "exception": null,
     "start_time": null,
     "status": "pending"
    },
    "tags": []
   },
   "source": [
    "### Bayesian CNN (BCNN)"
   ]
  },
  {
   "cell_type": "code",
   "execution_count": null,
   "id": "robust-walter",
   "metadata": {
    "execution": {
     "iopub.execute_input": "2021-06-29T07:06:58.355935Z",
     "iopub.status.busy": "2021-06-29T07:06:58.355502Z",
     "iopub.status.idle": "2021-06-29T07:06:58.36631Z",
     "shell.execute_reply": "2021-06-29T07:06:58.365053Z",
     "shell.execute_reply.started": "2021-06-29T07:06:58.35589Z"
    },
    "papermill": {
     "duration": null,
     "end_time": null,
     "exception": null,
     "start_time": null,
     "status": "pending"
    },
    "tags": []
   },
   "outputs": [],
   "source": [
    "#kl_divergence_function = (lambda q, p, _: tfp.distributions.kl_divergence(q, p))\n",
    "\n",
    "from tensorflow_probability.python.layers import DenseVariational, DenseReparameterization, DenseFlipout, Convolution2DFlipout, Convolution2DReparameterization\n",
    "from tensorflow.keras.layers import Input, Dense, Flatten, BatchNormalization, Activation, LeakyReLU\n",
    "from tensorflow.keras.models import Model, Sequential\n",
    "\n",
    "\n",
    "def neg_log_likelihood_with_logits(y_true, y_pred):\n",
    "    y_pred_dist = tfp.distributions.Categorical(logits=y_pred)\n",
    "    return -tf.reduce_mean(y_pred_dist.log_prob(tf.argmax(y_true, axis=-1)))\n",
    "\n",
    "\n",
    "def get_kernel_divergence_fn(train_size, w=1.0):\n",
    "    \"\"\"\n",
    "    Get the kernel Kullback-Leibler divergence function\n",
    "\n",
    "    # Arguments\n",
    "        train_size (int): size of the training dataset for normalization\n",
    "        w (float): weight to the function\n",
    "\n",
    "    # Returns\n",
    "        kernel_divergence_fn: kernel Kullback-Leibler divergence function\n",
    "    \"\"\"\n",
    "    def kernel_divergence_fn(q, p, _):  # need the third ignorable argument\n",
    "        kernel_divergence = tfp.distributions.kl_divergence(q, p) / tf.cast(train_size, tf.float32)\n",
    "        return w * kernel_divergence\n",
    "    return kernel_divergence_fn\n",
    "\n",
    "# Add a variable \"weight\" to the layer\n",
    "def add_kl_weight(layer, train_size, w_value=1.0):\n",
    "    w = layer.add_weight(name=layer.name+'/kl_loss_weight', shape=(),\n",
    "                         initializer=tf.initializers.constant(w_value), trainable=False)\n",
    "    layer.kernel_divergence_fn = get_kernel_divergence_fn(train_size, w)\n",
    "    return layer"
   ]
  },
  {
   "cell_type": "code",
   "execution_count": null,
   "id": "functioning-captain",
   "metadata": {
    "execution": {
     "iopub.execute_input": "2021-06-29T07:06:58.368858Z",
     "iopub.status.busy": "2021-06-29T07:06:58.368219Z",
     "iopub.status.idle": "2021-06-29T07:06:59.175118Z",
     "shell.execute_reply": "2021-06-29T07:06:59.173981Z",
     "shell.execute_reply.started": "2021-06-29T07:06:58.36881Z"
    },
    "papermill": {
     "duration": null,
     "end_time": null,
     "exception": null,
     "start_time": null,
     "status": "pending"
    },
    "tags": []
   },
   "outputs": [],
   "source": [
    "def build_bayesian_bcnn_model(input_shape, train_size):\n",
    "    model_in = Input(shape=input_shape)\n",
    "    conv_1 = Convolution2DFlipout(128, kernel_size=(2, 2), padding=\"same\", strides=2,\n",
    "                                  kernel_divergence_fn=None)\n",
    "    conv_1 = add_kl_weight(conv_1, train_size)\n",
    "    x = conv_1(model_in)\n",
    "    x = BatchNormalization()(x)\n",
    "    x = Activation('relu')(x)\n",
    "    conv_2 = Convolution2DFlipout(64, kernel_size=(2, 2), padding=\"same\", strides=2,\n",
    "                                  kernel_divergence_fn=None)\n",
    "    conv_2 = add_kl_weight(conv_2, train_size)\n",
    "    x = conv_2(x)\n",
    "    x = BatchNormalization()(x)\n",
    "    x = Activation('relu')(x)\n",
    "    \n",
    "    conv_3 = Convolution2DFlipout(32, kernel_size=(2, 2), padding=\"same\", strides=2,\n",
    "                                  kernel_divergence_fn=None)\n",
    "    conv_3 = add_kl_weight(conv_3, train_size)\n",
    "    x = conv_3(x)\n",
    "    x = BatchNormalization()(x)\n",
    "    x = Activation('relu')(x)\n",
    "    \n",
    "    x = Flatten()(x)\n",
    "    dense_1 = DenseFlipout(512, activation='relu',\n",
    "                           kernel_divergence_fn=None)\n",
    "    dense_1 = add_kl_weight(dense_1, train_size)\n",
    "    x = dense_1(x)\n",
    "    dense_2 = DenseFlipout(4, activation=None,\n",
    "                           kernel_divergence_fn=None)\n",
    "    dense_2 = add_kl_weight(dense_2, train_size)\n",
    "    model_out = dense_2(x)  # logits\n",
    "    model = Model(model_in, model_out)\n",
    "    return model\n",
    "\n",
    "\n",
    "bcnn_model = build_bayesian_bcnn_model(X_train_cnn.shape[1:], X_train.shape[0])\n",
    "\n",
    "def neg_log_likelihood_with_logits(y_true, y_pred):\n",
    "    y_pred_distr=tfp.distributions.OneHotCategorical(logits=y_pred)\n",
    "    return -tf.reduce_mean(y_pred_distr.log_prob(y_true))\n",
    "\n",
    "def loss(y_true,y_pred,model=bcnn_model):\n",
    "    nll = neg_log_likelihood_with_logits(y_true, y_pred)\n",
    "    kl = tf.keras.losses.kullback_leibler_divergence(y_true, y_pred)\n",
    "    \n",
    "    return kl + nll\n",
    "    \n",
    "bcnn_model = build_bayesian_bcnn_model(X_train_cnn.shape[1:], X_train.shape[0])\n",
    "bcnn_model.compile(loss=loss, optimizer=Adam(learning_rate=0.001), metrics=['accuracy'],\n",
    "                   experimental_run_tf_function=False)\n",
    "bcnn_model.summary()\n",
    "\n"
   ]
  },
  {
   "cell_type": "code",
   "execution_count": null,
   "id": "distinct-appeal",
   "metadata": {
    "execution": {
     "iopub.execute_input": "2021-06-29T07:06:59.177131Z",
     "iopub.status.busy": "2021-06-29T07:06:59.17673Z"
    },
    "papermill": {
     "duration": null,
     "end_time": null,
     "exception": null,
     "start_time": null,
     "status": "pending"
    },
    "tags": []
   },
   "outputs": [],
   "source": [
    "n_epochs = 10\n",
    "bcnn_history = bcnn_model.fit(X_train_cnn, y_train_onehot, batch_size=128,\n",
    "                                 epochs=n_epochs, verbose=1,validation_data=(X_test_cnn,y_test_onehot))\n",
    "\n"
   ]
  },
  {
   "cell_type": "markdown",
   "id": "revolutionary-eligibility",
   "metadata": {
    "papermill": {
     "duration": null,
     "end_time": null,
     "exception": null,
     "start_time": null,
     "status": "pending"
    },
    "tags": []
   },
   "source": [
    "MC sampling to approximate the posterior predictive distribution"
   ]
  },
  {
   "cell_type": "code",
   "execution_count": null,
   "id": "crude-impossible",
   "metadata": {
    "papermill": {
     "duration": null,
     "end_time": null,
     "exception": null,
     "start_time": null,
     "status": "pending"
    },
    "tags": []
   },
   "outputs": [],
   "source": [
    "import tqdm\n",
    "MC_samples = 100\n",
    "y_pred_list = []\n",
    "for i in tqdm.tqdm(range(MC_samples)):\n",
    "    y_pred = softmax(bcnn_model.predict(X_test_cnn),axis=1)\n",
    "    y_pred_list.append(y_pred)\n",
    "    "
   ]
  },
  {
   "cell_type": "code",
   "execution_count": null,
   "id": "sexual-lodge",
   "metadata": {
    "papermill": {
     "duration": null,
     "end_time": null,
     "exception": null,
     "start_time": null,
     "status": "pending"
    },
    "tags": []
   },
   "outputs": [],
   "source": [
    "pred_mean = np.mean(y_pred_list,axis=0)\n",
    "pred_median = np.median(y_pred_list,axis=0)\n",
    "pred_sd = np.std(y_pred_list,axis=0)\n",
    "\n",
    "from scipy.stats import median_abs_deviation\n",
    "pred_mad = median_abs_deviation(y_pred_list,axis=0)"
   ]
  },
  {
   "cell_type": "code",
   "execution_count": null,
   "id": "specified-parts",
   "metadata": {
    "papermill": {
     "duration": null,
     "end_time": null,
     "exception": null,
     "start_time": null,
     "status": "pending"
    },
    "tags": []
   },
   "outputs": [],
   "source": [
    "#Another measure of uncertainty\n",
    "NLL=-np.log(np.max(pred_mean,axis=1))"
   ]
  },
  {
   "cell_type": "code",
   "execution_count": null,
   "id": "north-improvement",
   "metadata": {
    "papermill": {
     "duration": null,
     "end_time": null,
     "exception": null,
     "start_time": null,
     "status": "pending"
    },
    "tags": []
   },
   "outputs": [],
   "source": [
    "def label(n):\n",
    "    if n==2:\n",
    "        return 7\n",
    "    if n==3:\n",
    "        return 8\n",
    "    return n\n",
    "\n",
    "mislabelling = []\n",
    "only_one = []\n",
    "more_than_one = []\n",
    "none = []\n",
    "n_classes=4\n",
    "prediction = np.zeros((X_test.shape[0],n_classes))\n",
    "threshold = 0.25 ## Set a threshold of 20%\n",
    "\n",
    "\n",
    "for i in range(X_test.shape[0]):\n",
    "    #indexes=[idx for idx in range(n_classes) if pred_median[i,idx]>= threshold]\n",
    "    indexes=[idx for idx in range(n_classes) if pred_mean[i,idx]>= threshold]\n",
    "\n",
    "    for c in range(n_classes):\n",
    "        if pred_mean[i,c]> threshold:\n",
    "            prediction[i,c] = 1\n",
    "    \n",
    "    if len(indexes)==1:\n",
    "        only_one.append(i)\n",
    "        if y_test[i]!=indexes[0]:\n",
    "            mislabelling.append(i) \n",
    "    else:\n",
    "        if len(indexes)==0:\n",
    "            none.append(i)\n",
    "        more_than_one.append(i)\n",
    "        mislabelling.append(i)\n",
    "        \n"
   ]
  },
  {
   "cell_type": "code",
   "execution_count": null,
   "id": "threatened-fleet",
   "metadata": {
    "papermill": {
     "duration": null,
     "end_time": null,
     "exception": null,
     "start_time": null,
     "status": "pending"
    },
    "tags": []
   },
   "outputs": [],
   "source": [
    "print('Threshold imposed: '+str(threshold)+\"\\n\")\n",
    "print('Percentage of unconfidently labelled samples (i.e. more than one outcome): ' \n",
    "      +str(round(100*len(more_than_one)/y_test.shape[0],2))+\" %\"+\"  (There are \"+str(len(more_than_one))+\")\"+\"\\n\")\n",
    "print('Percentage of non-labelled samples: ' +str(round(100*len(none)/y_test.shape[0],2))+\" %\"+\"  (There are \"+str(len(none))+\")\"+\"\\n\")\n",
    "\n",
    "\n",
    "print('------------------------------------------------'+\"\\n\")\n",
    "\n",
    "print('Accuracy on whole test set (naively): '+str(round(100*accuracy_score(np.argmax(pred_mean,axis=1),\n",
    "                                                                            np.argmax(y_test_onehot,axis=1)),2))+\" %\"+\"\\n\")\n",
    "\n",
    "print('Accuracy on confidently labelled samples (i.e. only one outcome): ' \n",
    "      +str(round(100*accuracy_score(prediction.astype(int)[only_one,],y_test_onehot[only_one]),2))+\" %\"+\"\\n\")\n",
    "\n",
    "print('Accuracy on unconfidently labelled samples (i.e. more than one outcome, return the most probable): '+str(round(100*accuracy_score(np.argmax(pred_mean[more_than_one],axis=1),\n",
    "               np.argmax(y_test_onehot[more_than_one],axis=1)),2))+\" %\"+\"\\n\")\n",
    "\n",
    "\n",
    "print('------------------------------------------------'+\"\\n\")\n",
    "\n",
    "print('Precision on whole test set (naively): '+str(round(100*precision_score(np.argmax(pred_mean,axis=1),\n",
    "                                                                            np.argmax(y_test_onehot,axis=1),average='weighted'),2))+\" %\"+\"\\n\")\n",
    "\n",
    "\n",
    "print('Precision on confidently labelled samples (i.e. only one outcome): ' \n",
    "      +str(round(100*precision_score(prediction.astype(int)[only_one,],y_test_onehot[only_one],average='weighted'),2))+\" %\"+\"\\n\")\n",
    "\n",
    "print('Precision on unconfidently labelled samples (i.e. more than one outcome, return the most probable): '+str(round(100*precision_score(np.argmax(pred_mean[more_than_one],axis=1),\n",
    "               np.argmax(y_test_onehot[more_than_one],axis=1),average='weighted'),2))+\" %\"+\"\\n\")\n"
   ]
  },
  {
   "cell_type": "code",
   "execution_count": null,
   "id": "positive-meditation",
   "metadata": {
    "papermill": {
     "duration": null,
     "end_time": null,
     "exception": null,
     "start_time": null,
     "status": "pending"
    },
    "tags": []
   },
   "outputs": [],
   "source": [
    "def plot_pred_hist(y_pred, sample , n_class, n_mc_run, n_bins=30, med_prob_thres=0.2, n_subplot_rows=2, figsize=(20, 7)):\n",
    "    pred_matrix = np.zeros((MC_samples,n_class))\n",
    "    for i in range(MC_samples):\n",
    "        pred_matrix[i,] = y_pred[i][sample,]\n",
    "        \n",
    "    \n",
    "    print('\\nmean of predicted probs = \\n', np.mean(pred_matrix,axis=0))\n",
    "    print('\\nmedian of predicted probs = \\n', np.median(pred_matrix,axis=0))\n",
    "    print('\\nstd of predicted probs = \\n', np.std(pred_matrix,axis=0))\n",
    "    print('True label: '+str(y_test[sample]))\n",
    "    print('Mean standard deviation = '+str(round(np.mean(np.std(pred_matrix,axis=0)),2)))\n",
    "    \n",
    "\n",
    "    \n",
    "    image = X_test.iloc[sample,:].values.reshape(28,28)\n",
    "    # plot the sample\n",
    "    figure = plt.figure\n",
    "    plt.imshow(image, cmap='gray')\n",
    "    plt.show()\n",
    "    figsize=(20, 7)\n",
    "    \n",
    "    bins = np.logspace(-n_bins, 0, n_bins+1)\n",
    "    n_subplot_cols = (n_class + 1) // n_subplot_rows\n",
    "    fig, ax = plt.subplots(n_subplot_rows, n_subplot_cols, figsize=figsize, dpi=100)\n",
    "    \n",
    "    \n",
    "    for i in range(n_subplot_rows):\n",
    "        for j in range(n_subplot_cols):\n",
    "            idx = i * n_subplot_cols + j\n",
    "            if idx < n_class:\n",
    "                #ax[i, j].hist(pred_matrix[:,idx], bins)\n",
    "                sns.histplot(pred_matrix[:,idx],ax=ax[i][j],bins=n_bins,legend=True)\n",
    "                \n",
    "                heights = [ax[i][j].patches[p].get_height() for p in range(len(ax[i][j].patches))]\n",
    "                data_mean = pd.DataFrame({'x':[np.mean(pred_matrix[:,idx])]*2,\n",
    "                                           'y':[0,1.25*np.max(heights)]})\n",
    "                \n",
    "                for _ in range(7):#Get a brighter straight line by plotting several times\n",
    "                    sns.lineplot(data=data_mean,x='x',y='y', color='red',ax=ax[i][j],legend='auto')\n",
    "                #ax[i, j].set_xscale('log')\n",
    "                ax[i,j].legend(['Mean'])\n",
    "                ax[i,j].set_xlabel(('Probability'))\n",
    "                #ax[i, j].set_ylim([0, n_mc_run/5])\n",
    "                ax[i, j].title.set_text(\"{} (Mean prob: {:.2f}) (std: {:.2f}) ({})\".format(str(label(idx)),\n",
    "                                                                               np.mean(pred_matrix[:,idx]),\n",
    "                                                                               np.std(pred_matrix[:,idx]),\n",
    "                                                                               str(np.mean(pred_matrix[:,idx]) >= 0.2)))\n",
    "               \n",
    "            else:\n",
    "                ax[i, j].axis('off')\n",
    "    fig.subplots_adjust(hspace=0.4)\n",
    "    plt.show()"
   ]
  },
  {
   "cell_type": "code",
   "execution_count": null,
   "id": "ahead-savings",
   "metadata": {
    "papermill": {
     "duration": null,
     "end_time": null,
     "exception": null,
     "start_time": null,
     "status": "pending"
    },
    "tags": []
   },
   "outputs": [],
   "source": [
    "plot_pred_hist(y_pred = y_pred_list,\n",
    "              sample = 4887,\n",
    "              n_class = 4,\n",
    "              n_mc_run=MC_samples)"
   ]
  },
  {
   "cell_type": "markdown",
   "id": "bound-apparatus",
   "metadata": {
    "papermill": {
     "duration": null,
     "end_time": null,
     "exception": null,
     "start_time": null,
     "status": "pending"
    },
    "tags": []
   },
   "source": [
    "### Entropy"
   ]
  },
  {
   "cell_type": "code",
   "execution_count": null,
   "id": "removable-chemistry",
   "metadata": {
    "papermill": {
     "duration": null,
     "end_time": null,
     "exception": null,
     "start_time": null,
     "status": "pending"
    },
    "tags": []
   },
   "outputs": [],
   "source": [
    "n_classes = 4\n",
    "y_mean = np.mean(y_pred_list,axis=0)\n",
    "y_median = np.median(y_pred_list,axis=0)\n",
    "\n",
    "S=np.zeros((X_test.shape[0],))\n",
    "for i in range(X_test.shape[0]):\n",
    "    for c in range(n_classes):\n",
    "        if y_mean[i,c]==0:\n",
    "            pass\n",
    "        else:\n",
    "            S[i] -= y_mean[i,c]*np.log(y_mean[i,c])"
   ]
  },
  {
   "cell_type": "code",
   "execution_count": null,
   "id": "miniature-showcase",
   "metadata": {
    "papermill": {
     "duration": null,
     "end_time": null,
     "exception": null,
     "start_time": null,
     "status": "pending"
    },
    "tags": []
   },
   "outputs": [],
   "source": [
    "def scatter_2d_label_with_subset(X_2d, y,subset, ax=None, s=0.5, alpha=0.85, lw=2):\n",
    "    \"\"\"Visualise a 2D embedding with corresponding labels.\n",
    "    \n",
    "    X_2d : ndarray, shape (n_samples,2)\n",
    "        Low-dimensional feature representation.\n",
    "    \n",
    "    y : ndarray, shape (n_samples,)\n",
    "        Labels corresponding to the entries in X_2d.\n",
    "        \n",
    "    ax : matplotlib axes.Axes \n",
    "         axes to plot on\n",
    "         \n",
    "    s : float\n",
    "        Marker size for scatter plot.\n",
    "    \n",
    "    alpha : float\n",
    "        Transparency for scatter plot.\n",
    "        \n",
    "    lw : float\n",
    "        Linewidth for scatter plot.\n",
    "        \n",
    "    subset : ndarray\n",
    "        subset of points to be flagged on the plot\n",
    "    \"\"\"\n",
    "    \n",
    "    targets = np.unique(y)# extract unique labels\n",
    "    colors = sns.color_palette(n_colors=targets.size)\n",
    "    \n",
    "    if ax is None:\n",
    "        fig, ax = plt.subplots()\n",
    "        \n",
    "    # scatter plot    \n",
    "    for color, target in zip(colors, targets):\n",
    "        ax.scatter(X_2d[y == target, 0], X_2d[y == target, 1], color=color, label=target, s=s, alpha=alpha, lw=lw)\n",
    "        \n",
    "    ax.scatter(X_2d[subset, 0],X_2d[subset, 1],color='black')\n",
    "    # add legend\n",
    "    ax.legend(loc='center left', bbox_to_anchor=[1.01, 0.5], scatterpoints=3, frameon=False); # Add a legend outside the plot at specified point\n",
    "    \n",
    "    return ax"
   ]
  },
  {
   "cell_type": "code",
   "execution_count": null,
   "id": "welsh-fabric",
   "metadata": {
    "papermill": {
     "duration": null,
     "end_time": null,
     "exception": null,
     "start_time": null,
     "status": "pending"
    },
    "tags": []
   },
   "outputs": [],
   "source": [
    "# PCA : Assesss variables' relevance\n",
    "from sklearn.decomposition import PCA\n",
    "\n",
    "pca = PCA(n_components=2)\n",
    "X_test_pca = pca.fit_transform(X_test)\n",
    "print(pca.explained_variance_ratio_)\n",
    "#pca.components_\n",
    "\n",
    "y=y_test.reshape(-1)\n",
    "fig, ax = plt.subplots()\n",
    "#scatter_2d_label_with_subset(X_test_pca, y_test, ax=ax,subset=np.argsort(S_vanilla)[:100])\n",
    "scatter_2d_label_with_subset(X_test_pca, y_test, ax=ax,subset=np.argsort(-S)[:50])\n",
    "#scatter_2d_label_with_subset(X_test_pca, y_test, ax=ax,subset=np.argsort(-np.mean(pred_sd,axis=1))[:50])\n",
    "#scatter_2d_label_with_subset(X_test_pca, y_test, ax=ax,subset=np.argsort(NLL)[:50])\n",
    "\n",
    "\n",
    "\n",
    "ax.set(xlabel='1st PCA component', ylabel= '2nd PCA component');"
   ]
  },
  {
   "cell_type": "markdown",
   "id": "moderate-trading",
   "metadata": {
    "papermill": {
     "duration": null,
     "end_time": null,
     "exception": null,
     "start_time": null,
     "status": "pending"
    },
    "tags": []
   },
   "source": [
    "Again, high entropy seems to coincide with high uncertainty"
   ]
  },
  {
   "cell_type": "code",
   "execution_count": null,
   "id": "statewide-understanding",
   "metadata": {
    "papermill": {
     "duration": null,
     "end_time": null,
     "exception": null,
     "start_time": null,
     "status": "pending"
    },
    "tags": []
   },
   "outputs": [],
   "source": [
    "from sklearn.neighbors import LocalOutlierFactor\n",
    "clf = LocalOutlierFactor(n_neighbors=20)\n",
    "clf.fit(X_test)"
   ]
  },
  {
   "cell_type": "code",
   "execution_count": null,
   "id": "designing-rough",
   "metadata": {
    "papermill": {
     "duration": null,
     "end_time": null,
     "exception": null,
     "start_time": null,
     "status": "pending"
    },
    "tags": []
   },
   "outputs": [],
   "source": [
    "#Outliers according to LOF\n",
    "fig, ax = plt.subplots()\n",
    "scatter_2d_label_with_subset(X_test_pca, y_test, ax=ax,subset=[4887])"
   ]
  },
  {
   "cell_type": "code",
   "execution_count": null,
   "id": "acute-pollution",
   "metadata": {
    "papermill": {
     "duration": null,
     "end_time": null,
     "exception": null,
     "start_time": null,
     "status": "pending"
    },
    "tags": []
   },
   "outputs": [],
   "source": [
    "#Outliers according to LOF\n",
    "fig, ax = plt.subplots()\n",
    "scatter_2d_label_with_subset(X_test_pca, y_test, ax=ax,subset=np.argsort(clf.negative_outlier_factor_)[847:848])"
   ]
  },
  {
   "cell_type": "markdown",
   "id": "hollow-calculator",
   "metadata": {
    "papermill": {
     "duration": null,
     "end_time": null,
     "exception": null,
     "start_time": null,
     "status": "pending"
    },
    "tags": []
   },
   "source": [
    "### Have a look at unconfidently labelled samples"
   ]
  },
  {
   "cell_type": "code",
   "execution_count": null,
   "id": "interpreted-belize",
   "metadata": {
    "papermill": {
     "duration": null,
     "end_time": null,
     "exception": null,
     "start_time": null,
     "status": "pending"
    },
    "tags": []
   },
   "outputs": [],
   "source": [
    "sns.histplot(S,bins=30)"
   ]
  },
  {
   "cell_type": "code",
   "execution_count": null,
   "id": "refined-enforcement",
   "metadata": {
    "papermill": {
     "duration": null,
     "end_time": null,
     "exception": null,
     "start_time": null,
     "status": "pending"
    },
    "tags": []
   },
   "outputs": [],
   "source": [
    "sns.histplot(np.mean(pred_sd,axis=1),bins=30)"
   ]
  },
  {
   "cell_type": "code",
   "execution_count": null,
   "id": "combined-intermediate",
   "metadata": {
    "papermill": {
     "duration": null,
     "end_time": null,
     "exception": null,
     "start_time": null,
     "status": "pending"
    },
    "tags": []
   },
   "outputs": [],
   "source": [
    "sns.histplot(NLL,bins=30)"
   ]
  },
  {
   "cell_type": "code",
   "execution_count": null,
   "id": "distinguished-scanner",
   "metadata": {
    "papermill": {
     "duration": null,
     "end_time": null,
     "exception": null,
     "start_time": null,
     "status": "pending"
    },
    "tags": []
   },
   "outputs": [],
   "source": [
    "#For instance\n",
    "len([a for a in np.array(more_than_one) if a in np.argsort(-S)[:len(more_than_one)]])/len(more_than_one)"
   ]
  },
  {
   "cell_type": "code",
   "execution_count": null,
   "id": "bizarre-baseball",
   "metadata": {
    "papermill": {
     "duration": null,
     "end_time": null,
     "exception": null,
     "start_time": null,
     "status": "pending"
    },
    "tags": []
   },
   "outputs": [],
   "source": [
    "len([a for a in np.array(more_than_one) if a in np.argsort(-np.mean(pred_sd,axis=1))[:len(more_than_one)]])/len(more_than_one)"
   ]
  },
  {
   "cell_type": "code",
   "execution_count": null,
   "id": "antique-cabinet",
   "metadata": {
    "papermill": {
     "duration": null,
     "end_time": null,
     "exception": null,
     "start_time": null,
     "status": "pending"
    },
    "tags": []
   },
   "outputs": [],
   "source": [
    "len([a for a in np.array(more_than_one) if a in np.argsort(-NLL)[:len(more_than_one)]])/len(more_than_one)"
   ]
  },
  {
   "cell_type": "code",
   "execution_count": null,
   "id": "pretty-incentive",
   "metadata": {
    "papermill": {
     "duration": null,
     "end_time": null,
     "exception": null,
     "start_time": null,
     "status": "pending"
    },
    "tags": []
   },
   "outputs": [],
   "source": []
  },
  {
   "cell_type": "code",
   "execution_count": null,
   "id": "warming-result",
   "metadata": {
    "papermill": {
     "duration": null,
     "end_time": null,
     "exception": null,
     "start_time": null,
     "status": "pending"
    },
    "tags": []
   },
   "outputs": [],
   "source": [
    "n_samples = 10\n",
    "pred_sd_mean = np.mean(pred_sd,axis=1)\n",
    "sorted_S = np.argsort(-S)\n",
    "for i in range(n_samples):\n",
    "    fig, ax = plt.subplots(1,3,figsize=(6,2),dpi=100)\n",
    "\n",
    "    fig.tight_layout()\n",
    "    \n",
    "    if i>X_test.shape[0]:\n",
    "        continue\n",
    "        \n",
    "    idx = sorted_S[i]\n",
    "    sns.heatmap(X_test.iloc[idx,].values.reshape(28,28),\n",
    "                cmap='gray',xticklabels=False,yticklabels=False,cbar=False,ax=ax[0])\n",
    "    #\"{} (Median prob: {:.2f}) (std: {:.2f}) ({})\n",
    "    \n",
    "    ax[0].title.set_text(\"True label: {}\".format(str(y_test[idx])))\n",
    "    if i==0:\n",
    "        ax[1].title.set_text('Posterior samples')\n",
    "        ax[2].title.set_text('Predictive probability')\n",
    "    \n",
    "    #ax[1].title.set_text(\"Mean std: {}\".format(str(pred_sd_mean[idx])))\n",
    "    #ax[2].title.set_text(\"Output: {}\".format(str(prediction[idx])))\n",
    "\n",
    "    for prob_sample in y_pred_list:\n",
    "        sns.barplot(x=[0,1,7,8], y=prob_sample[idx, :],\n",
    "                    alpha=0.1,ax=ax[1])\n",
    "    sns.barplot(x=[0,1,7,8], y=pred_mean[idx, :],ax=ax[2])\n",
    "    fig.show()\n",
    "    \n"
   ]
  },
  {
   "cell_type": "code",
   "execution_count": null,
   "id": "cheap-array",
   "metadata": {
    "papermill": {
     "duration": null,
     "end_time": null,
     "exception": null,
     "start_time": null,
     "status": "pending"
    },
    "tags": []
   },
   "outputs": [],
   "source": [
    "from sklearn.neighbors import LocalOutlierFactor\n",
    "clf = LocalOutlierFactor(n_neighbors=20)\n",
    "clf.fit(X_test)\n",
    "\n",
    "\n",
    "sorted_lof = np.argsort(clf.negative_outlier_factor_)\n",
    "for i in range(n_samples):\n",
    "    fig, ax = plt.subplots(1,3,figsize=(6,2),dpi=100)\n",
    "\n",
    "    fig.tight_layout()\n",
    "    \n",
    "    if i>X_test.shape[0]:\n",
    "        continue\n",
    "        \n",
    "    idx = sorted_lof[i]\n",
    "    sns.heatmap(X_test.iloc[idx,].values.reshape(28,28),\n",
    "                cmap='gray',xticklabels=False,yticklabels=False,cbar=False,ax=ax[0])\n",
    "    #\"{} (Median prob: {:.2f}) (std: {:.2f}) ({})\n",
    "    \n",
    "    ax[0].title.set_text(\"True label: {}\".format(str(y_test[idx])))\n",
    "    if i==0:\n",
    "        ax[1].title.set_text('Posterior samples')\n",
    "        ax[2].title.set_text('Predictive probability')\n",
    "    \n",
    "    #ax[1].title.set_text(\"Mean std: {}\".format(str(pred_sd_mean[idx])))\n",
    "    #ax[2].title.set_text(\"Output: {}\".format(str(prediction[idx])))\n",
    "\n",
    "    for prob_sample in y_pred_list:\n",
    "        sns.barplot(x=[0,1,7,8], y=prob_sample[idx, :],\n",
    "                    alpha=0.1,ax=ax[1])\n",
    "    sns.barplot(x=[0,1,7,8], y=pred_mean[idx, :],ax=ax[2])\n",
    "    fig.show()\n",
    "    \n",
    "\n"
   ]
  },
  {
   "cell_type": "code",
   "execution_count": null,
   "id": "frequent-secretary",
   "metadata": {
    "papermill": {
     "duration": null,
     "end_time": null,
     "exception": null,
     "start_time": null,
     "status": "pending"
    },
    "tags": []
   },
   "outputs": [],
   "source": [
    "indexes_with_largest_S = np.argsort(-S)[:10]\n",
    "samples_with_largest_S = df.iloc[indexes_with_largest_S,:]"
   ]
  },
  {
   "cell_type": "code",
   "execution_count": null,
   "id": "complimentary-graph",
   "metadata": {
    "papermill": {
     "duration": null,
     "end_time": null,
     "exception": null,
     "start_time": null,
     "status": "pending"
    },
    "tags": []
   },
   "outputs": [],
   "source": [
    "sns.barplot(x=\"label\",y=\"label\",data=samples_with_largest_S,\n",
    "            estimator=lambda x: len(x) / len(samples_with_largest_S.label) * 100).set(ylabel=\"%\",xlabel=\"Number\")\n"
   ]
  },
  {
   "cell_type": "code",
   "execution_count": null,
   "id": "mysterious-vintage",
   "metadata": {
    "papermill": {
     "duration": null,
     "end_time": null,
     "exception": null,
     "start_time": null,
     "status": "pending"
    },
    "tags": []
   },
   "outputs": [],
   "source": [
    "sns.barplot(x=\"label\",y=\"label\",data=samples_with_largest_S,\n",
    "            estimator=lambda x: len(x) / len(samples_with_largest_S.label) * 100).set(ylabel=\"%\",xlabel=\"Number\")\n"
   ]
  },
  {
   "cell_type": "code",
   "execution_count": null,
   "id": "recreational-animation",
   "metadata": {
    "papermill": {
     "duration": null,
     "end_time": null,
     "exception": null,
     "start_time": null,
     "status": "pending"
    },
    "tags": []
   },
   "outputs": [],
   "source": [
    "#Create random image\n",
    "random_image = np.random.uniform(low=0,high=1,size=28*28).reshape(-1,28*28)[0]\n",
    "random_image_cnn =random_image.reshape(-1,28,28,1)"
   ]
  },
  {
   "cell_type": "code",
   "execution_count": null,
   "id": "specified-variation",
   "metadata": {
    "papermill": {
     "duration": null,
     "end_time": null,
     "exception": null,
     "start_time": null,
     "status": "pending"
    },
    "tags": []
   },
   "outputs": [],
   "source": [
    "import tqdm\n",
    "random_pred_list = []\n",
    "for i in tqdm.tqdm(range(100)):\n",
    "    y_pred = softmax(bcnn_model.predict(random_image_cnn))\n",
    "    random_pred_list.append(y_pred)"
   ]
  },
  {
   "cell_type": "code",
   "execution_count": null,
   "id": "corrected-dairy",
   "metadata": {
    "papermill": {
     "duration": null,
     "end_time": null,
     "exception": null,
     "start_time": null,
     "status": "pending"
    },
    "tags": []
   },
   "outputs": [],
   "source": [
    "random_pred_mean =np.mean(random_pred_list,axis=0)\n",
    "S_random = -np.sum([p*np.log(p) for p in random_pred_mean])\n",
    "NLL_random = -np.log(np.max(random_pred_mean,axis=1))\n",
    "sd_random = np.mean(np.std(random_pred_list,axis=0),axis=1)[0]"
   ]
  },
  {
   "cell_type": "code",
   "execution_count": null,
   "id": "corrected-transaction",
   "metadata": {
    "papermill": {
     "duration": null,
     "end_time": null,
     "exception": null,
     "start_time": null,
     "status": "pending"
    },
    "tags": []
   },
   "outputs": [],
   "source": [
    "sns.histplot(np.mean(pred_sd,axis=1),bins=30)\n",
    "plt.plot(sd_random,0,'r*',markersize=20)"
   ]
  },
  {
   "cell_type": "code",
   "execution_count": null,
   "id": "incident-fruit",
   "metadata": {
    "papermill": {
     "duration": null,
     "end_time": null,
     "exception": null,
     "start_time": null,
     "status": "pending"
    },
    "tags": []
   },
   "outputs": [],
   "source": [
    "sns.histplot(NLL,bins=30)\n",
    "plt.plot(NLL_random,0,'r*',markersize=20)"
   ]
  },
  {
   "cell_type": "code",
   "execution_count": null,
   "id": "exact-batch",
   "metadata": {
    "papermill": {
     "duration": null,
     "end_time": null,
     "exception": null,
     "start_time": null,
     "status": "pending"
    },
    "tags": []
   },
   "outputs": [],
   "source": [
    "sns.histplot(S,bins=30)\n",
    "plt.plot(S_random,0,'r*',markersize=20)"
   ]
  },
  {
   "cell_type": "code",
   "execution_count": null,
   "id": "freelance-offense",
   "metadata": {
    "papermill": {
     "duration": null,
     "end_time": null,
     "exception": null,
     "start_time": null,
     "status": "pending"
    },
    "tags": []
   },
   "outputs": [],
   "source": [
    "\n",
    "fig, ax = plt.subplots(1,3)\n",
    "fig.set_dpi(110)\n",
    "\n",
    "sns.heatmap(random_image.reshape(28,28),\n",
    "            cmap='gray',xticklabels=False,yticklabels=False,cbar=False,ax=ax[0])\n",
    "\n",
    "for prob_sample in random_pred_list:\n",
    "    sns.barplot(x=[0,1,7,8], y=prob_sample[0, :],\n",
    "                alpha=0.1,ax=ax[1])\n",
    "sns.barplot(x=[0,1,7,8], y=np.mean(random_pred_list,axis=0)[0],ax=ax[2])\n",
    "    \n",
    "\n",
    "fig.show()\n",
    "\n"
   ]
  },
  {
   "cell_type": "markdown",
   "id": "municipal-costume",
   "metadata": {
    "execution": {
     "iopub.execute_input": "2021-06-18T08:01:48.236016Z",
     "iopub.status.busy": "2021-06-18T08:01:48.235601Z",
     "iopub.status.idle": "2021-06-18T08:01:48.240095Z",
     "shell.execute_reply": "2021-06-18T08:01:48.239206Z",
     "shell.execute_reply.started": "2021-06-18T08:01:48.235986Z"
    },
    "papermill": {
     "duration": null,
     "end_time": null,
     "exception": null,
     "start_time": null,
     "status": "pending"
    },
    "tags": []
   },
   "source": [
    "### Accuracy as a function of the number of samples taken"
   ]
  },
  {
   "cell_type": "code",
   "execution_count": null,
   "id": "numerical-forge",
   "metadata": {
    "papermill": {
     "duration": null,
     "end_time": null,
     "exception": null,
     "start_time": null,
     "status": "pending"
    },
    "tags": []
   },
   "outputs": [],
   "source": [
    "Var_sort = np.argsort(np.mean(pred_sd,axis=1))\n",
    "S_sort = np.argsort(S)\n",
    "nll_sort = np.argsort(NLL)\n",
    "nof_sort = np.argsort(-clf.negative_outlier_factor_)"
   ]
  },
  {
   "cell_type": "code",
   "execution_count": null,
   "id": "biological-sport",
   "metadata": {
    "papermill": {
     "duration": null,
     "end_time": null,
     "exception": null,
     "start_time": null,
     "status": "pending"
    },
    "tags": []
   },
   "outputs": [],
   "source": [
    "N_max = X_test.shape[0]\n",
    "acc_sd = []\n",
    "acc_S = []\n",
    "acc_nll = []\n",
    "acc_nof = []\n",
    "range_samples = []\n",
    "for i in range(int(0.5*N_max),N_max):\n",
    "    acc_sd.append(accuracy_score(np.argmax(pred_mean[Var_sort[:i]],axis=1),\n",
    "                            np.argmax(y_test_onehot[Var_sort[:i]],axis=1)))\n",
    "    \n",
    "    acc_S.append(accuracy_score(np.argmax(pred_mean[S_sort[:i]],axis=1),\n",
    "                            np.argmax(y_test_onehot[S_sort[:i]],axis=1)))\n",
    "    \n",
    "    acc_nll.append(accuracy_score(np.argmax(pred_mean[nll_sort[:i]],axis=1),\n",
    "                            np.argmax(y_test_onehot[nll_sort[:i]],axis=1)))\n",
    "    \n",
    "    acc_nof.append(accuracy_score(np.argmax(pred_mean[nof_sort[:i]],axis=1),\n",
    "                            np.argmax(y_test_onehot[nof_sort[:i]],axis=1)))\n",
    "    range_samples.append(100*i/N_max)\n",
    "    "
   ]
  },
  {
   "cell_type": "code",
   "execution_count": null,
   "id": "level-retail",
   "metadata": {
    "papermill": {
     "duration": null,
     "end_time": null,
     "exception": null,
     "start_time": null,
     "status": "pending"
    },
    "tags": []
   },
   "outputs": [],
   "source": [
    "plt.plot(range_samples,acc_sd,'g')\n",
    "plt.plot(range_samples,acc_S,'b')\n",
    "plt.plot(range_samples,acc_nll,'r')\n",
    "plt.plot(range_samples,acc_nof,'k')\n",
    "plt.legend(['std','Entropy','NLL','Local Outlier Factor'])\n",
    "plt.xlabel('Percentage of samples taken(sorted by ascending metric)')\n",
    "plt.ylabel('Accuracy')"
   ]
  },
  {
   "cell_type": "code",
   "execution_count": null,
   "id": "further-india",
   "metadata": {
    "papermill": {
     "duration": null,
     "end_time": null,
     "exception": null,
     "start_time": null,
     "status": "pending"
    },
    "tags": []
   },
   "outputs": [],
   "source": []
  }
 ],
 "metadata": {
  "kernelspec": {
   "display_name": "Python 3",
   "language": "python",
   "name": "python3"
  },
  "language_info": {
   "codemirror_mode": {
    "name": "ipython",
    "version": 3
   },
   "file_extension": ".py",
   "mimetype": "text/x-python",
   "name": "python",
   "nbconvert_exporter": "python",
   "pygments_lexer": "ipython3",
   "version": "3.7.10"
  },
  "papermill": {
   "default_parameters": {},
   "duration": 23.723568,
   "end_time": "2021-06-29T07:41:22.222222",
   "environment_variables": {},
   "exception": true,
   "input_path": "__notebook__.ipynb",
   "output_path": "__notebook__.ipynb",
   "parameters": {},
   "start_time": "2021-06-29T07:40:58.498654",
   "version": "2.3.3"
  }
 },
 "nbformat": 4,
 "nbformat_minor": 5
}
